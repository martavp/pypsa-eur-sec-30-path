{
 "cells": [
  {
   "cell_type": "code",
   "execution_count": 1,
   "metadata": {},
   "outputs": [
    {
     "name": "stderr",
     "output_type": "stream",
     "text": [
      "Error loading 'pyutilib.component' entry points: 'The 'nose' distribution was not found and is required by the application'\n"
     ]
    }
   ],
   "source": [
    "import geopandas as gpd\n",
    "import pypsa\n",
    "import pandas as pd\n",
    "import numpy as np\n",
    "import os"
   ]
  },
  {
   "cell_type": "code",
   "execution_count": 2,
   "metadata": {},
   "outputs": [],
   "source": [
    "years = np.arange(2020,2055,5)\n",
    "scenarios = ['go','wait']\n",
    "version = 'Base'\n",
    "\n",
    "if version == 'w_Tran_exp':\n",
    "    transmission = 'opt'\n",
    "else:\n",
    "    transmission = 'TYNDP'"
   ]
  },
  {
   "cell_type": "code",
   "execution_count": 3,
   "metadata": {},
   "outputs": [],
   "source": [
    "def net_present_value(df): \n",
    "    rate = 0.02 # inflation rate\n",
    "    npv = pd.Series()\n",
    "    for scenario in scenarios:\n",
    "        s = df[scenario].sum().droplevel(0)\n",
    "        s.index = years\n",
    "        s_n = s/(1+rate)**(s.index-2020)\n",
    "        npv[scenario] = s_n.sum()*5/1e9\n",
    "    return npv"
   ]
  },
  {
   "cell_type": "code",
   "execution_count": 4,
   "metadata": {},
   "outputs": [],
   "source": [
    "df = pd.read_csv('../results/summaries/version-{}/csvs/costs.csv'.format(version),index_col=[0,1,2],header=[0,1,2],)\n",
    "npv = net_present_value(df)"
   ]
  },
  {
   "cell_type": "code",
   "execution_count": 5,
   "metadata": {},
   "outputs": [
    {
     "data": {
      "text/plain": [
       "go      1.000000\n",
       "wait    1.041237\n",
       "dtype: float64"
      ]
     },
     "execution_count": 5,
     "metadata": {},
     "output_type": "execute_result"
    }
   ],
   "source": [
    "npv/npv['go']"
   ]
  },
  {
   "cell_type": "code",
   "execution_count": 6,
   "metadata": {},
   "outputs": [
    {
     "name": "stderr",
     "output_type": "stream",
     "text": [
      "WARNING:pypsa.io:\n",
      "Importing PyPSA from older version of PyPSA than current version 0.14.1.\n",
      "Please read the release notes at https://pypsa.org/doc/release_notes.html\n",
      "carefully to prepare your network for import.\n",
      "\n",
      "INFO:pypsa.io:Imported network postnetwork-go_TYNDP_2020.nc has buses, carriers, generators, global_constraints, links, loads, storage_units, stores\n",
      "WARNING:pypsa.io:\n",
      "Importing PyPSA from older version of PyPSA than current version 0.14.1.\n",
      "Please read the release notes at https://pypsa.org/doc/release_notes.html\n",
      "carefully to prepare your network for import.\n",
      "\n",
      "INFO:pypsa.io:Imported network postnetwork-go_TYNDP_2025.nc has buses, carriers, generators, global_constraints, links, loads, storage_units, stores\n",
      "WARNING:pypsa.io:\n",
      "Importing PyPSA from older version of PyPSA than current version 0.14.1.\n",
      "Please read the release notes at https://pypsa.org/doc/release_notes.html\n",
      "carefully to prepare your network for import.\n",
      "\n",
      "INFO:pypsa.io:Imported network postnetwork-go_TYNDP_2030.nc has buses, carriers, generators, global_constraints, links, loads, storage_units, stores\n",
      "WARNING:pypsa.io:\n",
      "Importing PyPSA from older version of PyPSA than current version 0.14.1.\n",
      "Please read the release notes at https://pypsa.org/doc/release_notes.html\n",
      "carefully to prepare your network for import.\n",
      "\n",
      "INFO:pypsa.io:Imported network postnetwork-go_TYNDP_2035.nc has buses, carriers, generators, global_constraints, links, loads, storage_units, stores\n",
      "WARNING:pypsa.io:\n",
      "Importing PyPSA from older version of PyPSA than current version 0.14.1.\n",
      "Please read the release notes at https://pypsa.org/doc/release_notes.html\n",
      "carefully to prepare your network for import.\n",
      "\n",
      "INFO:pypsa.io:Imported network postnetwork-go_TYNDP_2040.nc has buses, carriers, generators, global_constraints, links, loads, storage_units, stores\n",
      "WARNING:pypsa.io:\n",
      "Importing PyPSA from older version of PyPSA than current version 0.14.1.\n",
      "Please read the release notes at https://pypsa.org/doc/release_notes.html\n",
      "carefully to prepare your network for import.\n",
      "\n",
      "INFO:pypsa.io:Imported network postnetwork-go_TYNDP_2045.nc has buses, carriers, generators, global_constraints, links, loads, storage_units, stores\n",
      "WARNING:pypsa.io:\n",
      "Importing PyPSA from older version of PyPSA than current version 0.14.1.\n",
      "Please read the release notes at https://pypsa.org/doc/release_notes.html\n",
      "carefully to prepare your network for import.\n",
      "\n",
      "INFO:pypsa.io:Imported network postnetwork-go_TYNDP_2050.nc has buses, carriers, generators, global_constraints, links, loads, storage_units, stores\n",
      "WARNING:pypsa.io:\n",
      "Importing PyPSA from older version of PyPSA than current version 0.14.1.\n",
      "Please read the release notes at https://pypsa.org/doc/release_notes.html\n",
      "carefully to prepare your network for import.\n",
      "\n",
      "INFO:pypsa.io:Imported network postnetwork-wait_TYNDP_2020.nc has buses, carriers, generators, global_constraints, links, loads, storage_units, stores\n",
      "WARNING:pypsa.io:\n",
      "Importing PyPSA from older version of PyPSA than current version 0.14.1.\n",
      "Please read the release notes at https://pypsa.org/doc/release_notes.html\n",
      "carefully to prepare your network for import.\n",
      "\n",
      "INFO:pypsa.io:Imported network postnetwork-wait_TYNDP_2025.nc has buses, carriers, generators, global_constraints, links, loads, storage_units, stores\n",
      "WARNING:pypsa.io:\n",
      "Importing PyPSA from older version of PyPSA than current version 0.14.1.\n",
      "Please read the release notes at https://pypsa.org/doc/release_notes.html\n",
      "carefully to prepare your network for import.\n",
      "\n",
      "INFO:pypsa.io:Imported network postnetwork-wait_TYNDP_2030.nc has buses, carriers, generators, global_constraints, links, loads, storage_units, stores\n",
      "WARNING:pypsa.io:\n",
      "Importing PyPSA from older version of PyPSA than current version 0.14.1.\n",
      "Please read the release notes at https://pypsa.org/doc/release_notes.html\n",
      "carefully to prepare your network for import.\n",
      "\n",
      "INFO:pypsa.io:Imported network postnetwork-wait_TYNDP_2035.nc has buses, carriers, generators, global_constraints, links, loads, storage_units, stores\n",
      "WARNING:pypsa.io:\n",
      "Importing PyPSA from older version of PyPSA than current version 0.14.1.\n",
      "Please read the release notes at https://pypsa.org/doc/release_notes.html\n",
      "carefully to prepare your network for import.\n",
      "\n",
      "INFO:pypsa.io:Imported network postnetwork-wait_TYNDP_2040.nc has buses, carriers, generators, global_constraints, links, loads, storage_units, stores\n",
      "WARNING:pypsa.io:\n",
      "Importing PyPSA from older version of PyPSA than current version 0.14.1.\n",
      "Please read the release notes at https://pypsa.org/doc/release_notes.html\n",
      "carefully to prepare your network for import.\n",
      "\n",
      "INFO:pypsa.io:Imported network postnetwork-wait_TYNDP_2045.nc has buses, carriers, generators, global_constraints, links, loads, storage_units, stores\n",
      "WARNING:pypsa.io:\n",
      "Importing PyPSA from older version of PyPSA than current version 0.14.1.\n",
      "Please read the release notes at https://pypsa.org/doc/release_notes.html\n",
      "carefully to prepare your network for import.\n",
      "\n",
      "INFO:pypsa.io:Imported network postnetwork-wait_TYNDP_2050.nc has buses, carriers, generators, global_constraints, links, loads, storage_units, stores\n"
     ]
    }
   ],
   "source": [
    "d_n = {}\n",
    "for scenario in scenarios:\n",
    "    for year in years:\n",
    "        d_n[(scenario,year)] = pypsa.Network('../results/networks/version-{}/postnetworks/postnetwork-{}_{}_{}.nc'.format(version,scenario,transmission,year))"
   ]
  },
  {
   "cell_type": "code",
   "execution_count": 7,
   "metadata": {},
   "outputs": [],
   "source": [
    "gen_carriers = ['onwind','offwind','solar','ror']\n",
    "store_carriers = ['coal','oil','lignite','nuclear','gas']\n",
    "su_carriers = ['hydro']"
   ]
  },
  {
   "cell_type": "code",
   "execution_count": 8,
   "metadata": {},
   "outputs": [],
   "source": [
    "n = d_n[('go',2050)]\n",
    "countries = n.buses.index[n.buses.carrier == 'AC'].tolist()\n",
    "iterables = [countries, years]\n",
    "columns = pd.MultiIndex.from_product(iterables, names=['country', 'year'])"
   ]
  },
  {
   "cell_type": "markdown",
   "metadata": {},
   "source": [
    "# 2020 existing power capacity"
   ]
  },
  {
   "cell_type": "code",
   "execution_count": 9,
   "metadata": {},
   "outputs": [],
   "source": [
    "costs = pd.read_csv('../data/costs/costs_2020.csv',index_col=list(range(2))).sort_index()\n",
    "costs = costs.loc[:, \"value\"].unstack(level=1).groupby(\"technology\").sum()\n",
    "lf = costs.lifetime\n",
    "eff = costs.efficiency"
   ]
  },
  {
   "cell_type": "code",
   "execution_count": 10,
   "metadata": {},
   "outputs": [],
   "source": [
    "n = d_n[('go',2020)]"
   ]
  },
  {
   "cell_type": "code",
   "execution_count": 11,
   "metadata": {},
   "outputs": [],
   "source": [
    "df = pd.read_csv('../data/existing_2020/existing_pp_2020.csv',index_col=0,dtype={'Fueltype':str,'Country':str})"
   ]
  },
  {
   "cell_type": "markdown",
   "metadata": {},
   "source": [
    "# renewable potential"
   ]
  },
  {
   "cell_type": "code",
   "execution_count": 12,
   "metadata": {},
   "outputs": [],
   "source": [
    "carriers = ['onwind','offwind','solar'] #,'biomass']\n",
    "d_rp = {}"
   ]
  },
  {
   "cell_type": "code",
   "execution_count": 13,
   "metadata": {},
   "outputs": [],
   "source": [
    "for carrier in carriers:\n",
    "    df = pd.DataFrame(index=countries,columns=years)\n",
    "    for year in years:\n",
    "        n = d_n[('go',year)]\n",
    "        df_ = n.generators[n.generators.carrier == carrier]\n",
    "        df_ = df_.rename(lambda x: x[:2]).groupby(level=0).sum()\n",
    "        df[year] = df_.p_nom_opt/df_.p_nom_max\n",
    "    df = df.round(2)\n",
    "    df.to_csv('results/{}_deployment_rate.csv'.format(carrier))\n",
    "    d_rp[carrier] = df"
   ]
  },
  {
   "cell_type": "markdown",
   "metadata": {},
   "source": [
    "# primary energy"
   ]
  },
  {
   "cell_type": "code",
   "execution_count": 14,
   "metadata": {},
   "outputs": [],
   "source": [
    "def primary_energy(scenario,country):\n",
    "    df = pd.DataFrame(index=gen_carriers+store_carriers+su_carriers,columns=years)\n",
    "\n",
    "    for year in years:\n",
    "        n = d_n[(scenario,year)]\n",
    "        for carrier in gen_carriers:\n",
    "            df.loc[carrier,year] = n.generators_t.p.sum().filter(like=country).filter(like=carrier).sum()\n",
    "        for carrier in store_carriers:\n",
    "            s = n.stores_t.e[country+' '+carrier+' store']\n",
    "            df.loc[carrier,year] = s.iloc[0]-s.iloc[-1]\n",
    "            \n",
    "        carrier = 'hydro'\n",
    "        try:\n",
    "            df.loc[carrier,year] = n.storage_units_t.inflow.sum().filter(like=country).filter(like=carrier).item()\n",
    "        except ValueError:\n",
    "            df.loc[carrier,year] = 0\n",
    "    df /= 1e6 #MWh to TWh\n",
    "    return df"
   ]
  },
  {
   "cell_type": "code",
   "execution_count": 15,
   "metadata": {},
   "outputs": [],
   "source": [
    "scenario = 'go'\n",
    "df = pd.DataFrame(index=gen_carriers+store_carriers+su_carriers,columns=columns)\n",
    "for country in countries:\n",
    "    df[country] = primary_energy(scenario,country)\n",
    "\n",
    "df.loc['hydro'] += df.loc['ror']\n",
    "df.drop(index='ror',inplace=True)\n",
    "\n",
    "df.to_csv('results/primary_energy_{}_{}.csv'.format(version,scenario))"
   ]
  },
  {
   "cell_type": "markdown",
   "metadata": {},
   "source": [
    "# electricity production"
   ]
  },
  {
   "cell_type": "code",
   "execution_count": 16,
   "metadata": {},
   "outputs": [],
   "source": [
    "def electricity_production(scenario,country):\n",
    "    df = pd.DataFrame(index=gen_carriers+store_carriers+su_carriers,columns=years)\n",
    "\n",
    "    for year in years:\n",
    "        n = d_n[(scenario,year)]\n",
    "        for carrier in gen_carriers:\n",
    "            df.loc[carrier,year] = n.generators_t.p.sum().filter(like=country).filter(like=carrier).sum()\n",
    "        for carrier in store_carriers:\n",
    "            index = n.links.index[(n.links.bus0 == country+' '+carrier) & (n.links.bus1 == country)]\n",
    "            df.loc[carrier,year] = -n.links_t.p1[index].sum().sum()\n",
    "            \n",
    "        carrier = 'hydro'\n",
    "        try:\n",
    "            df.loc[carrier,year] = n.storage_units_t.inflow.sum().filter(like=country).filter(like=carrier).item()\n",
    "        except ValueError:\n",
    "            df.loc[carrier,year] = 0\n",
    "    df /= 1e6 #MWh to TWh\n",
    "    return df"
   ]
  },
  {
   "cell_type": "code",
   "execution_count": 17,
   "metadata": {},
   "outputs": [],
   "source": [
    "df = pd.DataFrame(index=gen_carriers+store_carriers+su_carriers,columns=columns)\n",
    "for country in countries:\n",
    "    df[country] = electricity_production(scenario,country)\n",
    "\n",
    "df.loc['hydro'] += df.loc['ror']\n",
    "df.drop(index='ror',inplace=True)\n",
    "\n",
    "df.to_csv('results/electricity_production_{}_{}.csv'.format(version,scenario))"
   ]
  },
  {
   "cell_type": "markdown",
   "metadata": {},
   "source": [
    "# heat production"
   ]
  },
  {
   "cell_type": "code",
   "execution_count": 18,
   "metadata": {},
   "outputs": [],
   "source": [
    "heat_supply = ['gas boiler','CHP heat','resistive heater','heat pump']\n",
    "iterables = [years, countries]\n",
    "columns = pd.MultiIndex.from_product(iterables, names=['year','country'])\n",
    "df = pd.DataFrame(index=heat_supply,columns=columns)"
   ]
  },
  {
   "cell_type": "code",
   "execution_count": 19,
   "metadata": {},
   "outputs": [],
   "source": [
    "for year in years:\n",
    "    n = d_n[(scenario,year)]\n",
    "    for carrier in heat_supply:\n",
    "        s = n.links.filter(regex=carrier,axis=0)\n",
    "        hp = -n.links_t.p1[s.index].sum().rename(lambda x:x[:2]).groupby(level=0).sum()/1e6\n",
    "        df.loc[carrier,year][hp.index] = hp.values\n",
    "df.fillna(0,inplace=True)\n",
    "df = df.reorder_levels(['country','year'],axis=1)\n",
    "\n",
    "df.to_csv('results/heat_production_{}_{}.csv'.format(version,scenario))"
   ]
  },
  {
   "cell_type": "code",
   "execution_count": 20,
   "metadata": {},
   "outputs": [],
   "source": [
    "store = ['battery','H2','water tank']\n",
    "iterables = [years, countries]\n",
    "columns = pd.MultiIndex.from_product(iterables, names=['year','country'])\n",
    "df = pd.DataFrame(index=store,columns=columns)"
   ]
  },
  {
   "cell_type": "code",
   "execution_count": 21,
   "metadata": {},
   "outputs": [],
   "source": [
    "for year in years:\n",
    "    n = d_n[(scenario,year)]\n",
    "    for carrier in store:\n",
    "        s = n.stores.e_nom_opt.filter(like=carrier).rename(lambda x:x[:2]).groupby(level=0).sum()\n",
    "        df.loc[carrier,year][s.index] = s.values\n",
    "df.fillna(0,inplace=True)\n",
    "df = df.reorder_levels(['country','year'],axis=1)\n",
    "\n",
    "# df.to_csv('results/heat_production_{}_{}.csv'.format(version,scenario))"
   ]
  },
  {
   "cell_type": "markdown",
   "metadata": {},
   "source": [
    "# revenue"
   ]
  },
  {
   "cell_type": "code",
   "execution_count": 36,
   "metadata": {},
   "outputs": [],
   "source": [
    "iterables = [scenarios,years]\n",
    "columns = pd.MultiIndex.from_product(iterables, names=['scenario','year'])\n",
    "df = pd.DataFrame(columns=columns)\n",
    "\n",
    "for scenario in scenarios:\n",
    "    for year in years:\n",
    "        n = d_n[(scenario,year)]\n",
    "        p1 = -n.links_t.p1[n.links.index[n.links.p_min_pu != -1]]\n",
    "        nmp = n.buses_t.marginal_price.reindex(columns=p1.columns.map(n.links.bus1))\n",
    "        s_rev = (p1*nmp.values).sum()\n",
    "        s_rev.index = s_rev.index.str[3:]\n",
    "        s_rev = s_rev.groupby(level=0).sum()\n",
    "        df[(scenario,year)] = s_rev\n",
    "df = df.filter(regex='gas boiler|gas CHP',axis=0)    \n",
    "df.to_csv('results/revenue_{}.csv'.format(version))"
   ]
  }
 ],
 "metadata": {
  "kernelspec": {
   "display_name": "Python 3",
   "language": "python",
   "name": "python3"
  },
  "language_info": {
   "codemirror_mode": {
    "name": "ipython",
    "version": 3
   },
   "file_extension": ".py",
   "mimetype": "text/x-python",
   "name": "python",
   "nbconvert_exporter": "python",
   "pygments_lexer": "ipython3",
   "version": "3.7.4"
  }
 },
 "nbformat": 4,
 "nbformat_minor": 2
}
